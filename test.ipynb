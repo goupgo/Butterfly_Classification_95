{
 "cells": [
  {
   "cell_type": "code",
   "execution_count": 1,
   "id": "f8302d2d",
   "metadata": {},
   "outputs": [],
   "source": [
    "import pandas as pd"
   ]
  },
  {
   "cell_type": "code",
   "execution_count": 3,
   "id": "1d5b9205",
   "metadata": {},
   "outputs": [
    {
     "data": {
      "text/plain": [
       "0.9506337558372249"
      ]
     },
     "execution_count": 3,
     "metadata": {},
     "output_type": "execute_result"
    }
   ],
   "source": [
    "path1 = \"test.csv\"\n",
    "path2 = \"hybid40_fre.csv\"\n",
    "\n",
    "df1 = pd.read_csv(path1)\n",
    "df2 = pd.read_csv(path2)\n",
    "\n",
    "df1_sorted = df1.sort_values('ID').reset_index(drop=True)\n",
    "df2_sorted = df2.sort_values('ID').reset_index(drop=True)\n",
    "\n",
    "# Đổi tên cột label để phân biệt\n",
    "df1_sorted = df1_sorted.rename(columns={'label': 'label1'})\n",
    "df2_sorted = df2_sorted.rename(columns={'label': 'label2'})\n",
    "\n",
    "merged = pd.merge(df1_sorted, df2_sorted, on='ID', how='outer')\n",
    "\n",
    "merged['so sánh'] = merged['label1'] == merged['label2']\n",
    "\n",
    "result_df = merged[['ID', 'label1', 'label2', 'so sánh']]\n",
    "\n",
    "true_count_ratio = merged['so sánh'].sum() / 1499\n",
    "true_count_ratio\n"
   ]
  },
  {
   "cell_type": "code",
   "execution_count": null,
   "id": "9cacef5e",
   "metadata": {},
   "outputs": [],
   "source": []
  }
 ],
 "metadata": {
  "kernelspec": {
   "display_name": "Python 3",
   "language": "python",
   "name": "python3"
  },
  "language_info": {
   "codemirror_mode": {
    "name": "ipython",
    "version": 3
   },
   "file_extension": ".py",
   "mimetype": "text/x-python",
   "name": "python",
   "nbconvert_exporter": "python",
   "pygments_lexer": "ipython3",
   "version": "3.11.7"
  }
 },
 "nbformat": 4,
 "nbformat_minor": 5
}
